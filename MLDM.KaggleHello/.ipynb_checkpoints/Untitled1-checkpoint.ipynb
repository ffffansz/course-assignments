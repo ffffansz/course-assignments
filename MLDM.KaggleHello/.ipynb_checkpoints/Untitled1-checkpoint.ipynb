{
 "cells": [
  {
   "cell_type": "markdown",
   "metadata": {},
   "source": [
    "# 基于Kaggle案例“Rental Listing Inquiries”的EDA&FE报告\n",
    "\n",
    "#### 15336036 15网络工程 范述治\n",
    "---"
   ]
  },
  {
   "cell_type": "markdown",
   "metadata": {},
   "source": [
    "### 准备工作"
   ]
  },
  {
   "cell_type": "code",
   "execution_count": 1,
   "metadata": {},
   "outputs": [],
   "source": [
    "# Import packages\n",
    "import numpy as np\n",
    "import pandas as pd\n",
    "import matplotlib.pyplot as plt\n",
    "\n",
    "# Load data\n",
    "train = pd.read_json(\"../../KaggleData/competitions/two-sigma-connect-rental-listing-inquiries/train.json\")\n",
    "test = pd.read_json(\"../../KaggleData/competitions/two-sigma-connect-rental-listing-inquiries/test.json\")"
   ]
  },
  {
   "cell_type": "markdown",
   "metadata": {},
   "source": [
    "### 观察数据形式"
   ]
  },
  {
   "cell_type": "code",
   "execution_count": 2,
   "metadata": {},
   "outputs": [
    {
     "data": {
      "text/html": [
       "<div>\n",
       "<style scoped>\n",
       "    .dataframe tbody tr th:only-of-type {\n",
       "        vertical-align: middle;\n",
       "    }\n",
       "\n",
       "    .dataframe tbody tr th {\n",
       "        vertical-align: top;\n",
       "    }\n",
       "\n",
       "    .dataframe thead th {\n",
       "        text-align: right;\n",
       "    }\n",
       "</style>\n",
       "<table border=\"1\" class=\"dataframe\">\n",
       "  <thead>\n",
       "    <tr style=\"text-align: right;\">\n",
       "      <th></th>\n",
       "      <th>10</th>\n",
       "      <th>10000</th>\n",
       "      <th>100004</th>\n",
       "      <th>100007</th>\n",
       "      <th>100013</th>\n",
       "    </tr>\n",
       "  </thead>\n",
       "  <tbody>\n",
       "    <tr>\n",
       "      <th>bathrooms</th>\n",
       "      <td>1.5</td>\n",
       "      <td>1</td>\n",
       "      <td>1</td>\n",
       "      <td>1</td>\n",
       "      <td>1</td>\n",
       "    </tr>\n",
       "    <tr>\n",
       "      <th>bedrooms</th>\n",
       "      <td>3</td>\n",
       "      <td>2</td>\n",
       "      <td>1</td>\n",
       "      <td>1</td>\n",
       "      <td>4</td>\n",
       "    </tr>\n",
       "    <tr>\n",
       "      <th>building_id</th>\n",
       "      <td>53a5b119ba8f7b61d4e010512e0dfc85</td>\n",
       "      <td>c5c8a357cba207596b04d1afd1e4f130</td>\n",
       "      <td>c3ba40552e2120b0acfc3cb5730bb2aa</td>\n",
       "      <td>28d9ad350afeaab8027513a3e52ac8d5</td>\n",
       "      <td>0</td>\n",
       "    </tr>\n",
       "    <tr>\n",
       "      <th>created</th>\n",
       "      <td>2016-06-24 07:54:24</td>\n",
       "      <td>2016-06-12 12:19:27</td>\n",
       "      <td>2016-04-17 03:26:41</td>\n",
       "      <td>2016-04-18 02:22:02</td>\n",
       "      <td>2016-04-28 01:32:41</td>\n",
       "    </tr>\n",
       "    <tr>\n",
       "      <th>description</th>\n",
       "      <td>A Brand New 3 Bedroom 1.5 bath ApartmentEnjoy ...</td>\n",
       "      <td></td>\n",
       "      <td>Top Top West Village location, beautiful Pre-w...</td>\n",
       "      <td>Building Amenities - Garage - Garden - fitness...</td>\n",
       "      <td>Beautifully renovated 3 bedroom flex 4 bedroom...</td>\n",
       "    </tr>\n",
       "    <tr>\n",
       "      <th>display_address</th>\n",
       "      <td>Metropolitan Avenue</td>\n",
       "      <td>Columbus Avenue</td>\n",
       "      <td>W 13 Street</td>\n",
       "      <td>East 49th Street</td>\n",
       "      <td>West 143rd Street</td>\n",
       "    </tr>\n",
       "    <tr>\n",
       "      <th>features</th>\n",
       "      <td>[]</td>\n",
       "      <td>[Doorman, Elevator, Fitness Center, Cats Allow...</td>\n",
       "      <td>[Laundry In Building, Dishwasher, Hardwood Flo...</td>\n",
       "      <td>[Hardwood Floors, No Fee]</td>\n",
       "      <td>[Pre-War]</td>\n",
       "    </tr>\n",
       "    <tr>\n",
       "      <th>interest_level</th>\n",
       "      <td>medium</td>\n",
       "      <td>low</td>\n",
       "      <td>high</td>\n",
       "      <td>low</td>\n",
       "      <td>low</td>\n",
       "    </tr>\n",
       "    <tr>\n",
       "      <th>latitude</th>\n",
       "      <td>40.7145</td>\n",
       "      <td>40.7947</td>\n",
       "      <td>40.7388</td>\n",
       "      <td>40.7539</td>\n",
       "      <td>40.8241</td>\n",
       "    </tr>\n",
       "    <tr>\n",
       "      <th>listing_id</th>\n",
       "      <td>7211212</td>\n",
       "      <td>7150865</td>\n",
       "      <td>6887163</td>\n",
       "      <td>6888711</td>\n",
       "      <td>6934781</td>\n",
       "    </tr>\n",
       "    <tr>\n",
       "      <th>longitude</th>\n",
       "      <td>-73.9425</td>\n",
       "      <td>-73.9667</td>\n",
       "      <td>-74.0018</td>\n",
       "      <td>-73.9677</td>\n",
       "      <td>-73.9493</td>\n",
       "    </tr>\n",
       "    <tr>\n",
       "      <th>manager_id</th>\n",
       "      <td>5ba989232d0489da1b5f2c45f6688adc</td>\n",
       "      <td>7533621a882f71e25173b27e3139d83d</td>\n",
       "      <td>d9039c43983f6e564b1482b273bd7b01</td>\n",
       "      <td>1067e078446a7897d2da493d2f741316</td>\n",
       "      <td>98e13ad4b495b9613cef886d79a6291f</td>\n",
       "    </tr>\n",
       "    <tr>\n",
       "      <th>photos</th>\n",
       "      <td>[https://photos.renthop.com/2/7211212_1ed4542e...</td>\n",
       "      <td>[https://photos.renthop.com/2/7150865_be3306c5...</td>\n",
       "      <td>[https://photos.renthop.com/2/6887163_de85c427...</td>\n",
       "      <td>[https://photos.renthop.com/2/6888711_6e660cee...</td>\n",
       "      <td>[https://photos.renthop.com/2/6934781_1fa4b41a...</td>\n",
       "    </tr>\n",
       "    <tr>\n",
       "      <th>price</th>\n",
       "      <td>3000</td>\n",
       "      <td>5465</td>\n",
       "      <td>2850</td>\n",
       "      <td>3275</td>\n",
       "      <td>3350</td>\n",
       "    </tr>\n",
       "    <tr>\n",
       "      <th>street_address</th>\n",
       "      <td>792 Metropolitan Avenue</td>\n",
       "      <td>808 Columbus Avenue</td>\n",
       "      <td>241 W 13 Street</td>\n",
       "      <td>333 East 49th Street</td>\n",
       "      <td>500 West 143rd Street</td>\n",
       "    </tr>\n",
       "  </tbody>\n",
       "</table>\n",
       "</div>"
      ],
      "text/plain": [
       "                                                            10      \\\n",
       "bathrooms                                                      1.5   \n",
       "bedrooms                                                         3   \n",
       "building_id                       53a5b119ba8f7b61d4e010512e0dfc85   \n",
       "created                                        2016-06-24 07:54:24   \n",
       "description      A Brand New 3 Bedroom 1.5 bath ApartmentEnjoy ...   \n",
       "display_address                                Metropolitan Avenue   \n",
       "features                                                        []   \n",
       "interest_level                                              medium   \n",
       "latitude                                                   40.7145   \n",
       "listing_id                                                 7211212   \n",
       "longitude                                                 -73.9425   \n",
       "manager_id                        5ba989232d0489da1b5f2c45f6688adc   \n",
       "photos           [https://photos.renthop.com/2/7211212_1ed4542e...   \n",
       "price                                                         3000   \n",
       "street_address                             792 Metropolitan Avenue   \n",
       "\n",
       "                                                            10000   \\\n",
       "bathrooms                                                        1   \n",
       "bedrooms                                                         2   \n",
       "building_id                       c5c8a357cba207596b04d1afd1e4f130   \n",
       "created                                        2016-06-12 12:19:27   \n",
       "description                                                          \n",
       "display_address                                    Columbus Avenue   \n",
       "features         [Doorman, Elevator, Fitness Center, Cats Allow...   \n",
       "interest_level                                                 low   \n",
       "latitude                                                   40.7947   \n",
       "listing_id                                                 7150865   \n",
       "longitude                                                 -73.9667   \n",
       "manager_id                        7533621a882f71e25173b27e3139d83d   \n",
       "photos           [https://photos.renthop.com/2/7150865_be3306c5...   \n",
       "price                                                         5465   \n",
       "street_address                                 808 Columbus Avenue   \n",
       "\n",
       "                                                            100004  \\\n",
       "bathrooms                                                        1   \n",
       "bedrooms                                                         1   \n",
       "building_id                       c3ba40552e2120b0acfc3cb5730bb2aa   \n",
       "created                                        2016-04-17 03:26:41   \n",
       "description      Top Top West Village location, beautiful Pre-w...   \n",
       "display_address                                        W 13 Street   \n",
       "features         [Laundry In Building, Dishwasher, Hardwood Flo...   \n",
       "interest_level                                                high   \n",
       "latitude                                                   40.7388   \n",
       "listing_id                                                 6887163   \n",
       "longitude                                                 -74.0018   \n",
       "manager_id                        d9039c43983f6e564b1482b273bd7b01   \n",
       "photos           [https://photos.renthop.com/2/6887163_de85c427...   \n",
       "price                                                         2850   \n",
       "street_address                                     241 W 13 Street   \n",
       "\n",
       "                                                            100007  \\\n",
       "bathrooms                                                        1   \n",
       "bedrooms                                                         1   \n",
       "building_id                       28d9ad350afeaab8027513a3e52ac8d5   \n",
       "created                                        2016-04-18 02:22:02   \n",
       "description      Building Amenities - Garage - Garden - fitness...   \n",
       "display_address                                   East 49th Street   \n",
       "features                                 [Hardwood Floors, No Fee]   \n",
       "interest_level                                                 low   \n",
       "latitude                                                   40.7539   \n",
       "listing_id                                                 6888711   \n",
       "longitude                                                 -73.9677   \n",
       "manager_id                        1067e078446a7897d2da493d2f741316   \n",
       "photos           [https://photos.renthop.com/2/6888711_6e660cee...   \n",
       "price                                                         3275   \n",
       "street_address                                333 East 49th Street   \n",
       "\n",
       "                                                            100013  \n",
       "bathrooms                                                        1  \n",
       "bedrooms                                                         4  \n",
       "building_id                                                      0  \n",
       "created                                        2016-04-28 01:32:41  \n",
       "description      Beautifully renovated 3 bedroom flex 4 bedroom...  \n",
       "display_address                                  West 143rd Street  \n",
       "features                                                 [Pre-War]  \n",
       "interest_level                                                 low  \n",
       "latitude                                                   40.8241  \n",
       "listing_id                                                 6934781  \n",
       "longitude                                                 -73.9493  \n",
       "manager_id                        98e13ad4b495b9613cef886d79a6291f  \n",
       "photos           [https://photos.renthop.com/2/6934781_1fa4b41a...  \n",
       "price                                                         3350  \n",
       "street_address                               500 West 143rd Street  "
      ]
     },
     "execution_count": 2,
     "metadata": {},
     "output_type": "execute_result"
    }
   ],
   "source": [
    "train.head().T"
   ]
  },
  {
   "cell_type": "code",
   "execution_count": 3,
   "metadata": {},
   "outputs": [
    {
     "data": {
      "text/html": [
       "<div>\n",
       "<style scoped>\n",
       "    .dataframe tbody tr th:only-of-type {\n",
       "        vertical-align: middle;\n",
       "    }\n",
       "\n",
       "    .dataframe tbody tr th {\n",
       "        vertical-align: top;\n",
       "    }\n",
       "\n",
       "    .dataframe thead th {\n",
       "        text-align: right;\n",
       "    }\n",
       "</style>\n",
       "<table border=\"1\" class=\"dataframe\">\n",
       "  <thead>\n",
       "    <tr style=\"text-align: right;\">\n",
       "      <th></th>\n",
       "      <th>0</th>\n",
       "      <th>1</th>\n",
       "      <th>100</th>\n",
       "      <th>1000</th>\n",
       "      <th>100000</th>\n",
       "    </tr>\n",
       "  </thead>\n",
       "  <tbody>\n",
       "    <tr>\n",
       "      <th>bathrooms</th>\n",
       "      <td>1</td>\n",
       "      <td>1</td>\n",
       "      <td>1</td>\n",
       "      <td>1</td>\n",
       "      <td>2</td>\n",
       "    </tr>\n",
       "    <tr>\n",
       "      <th>bedrooms</th>\n",
       "      <td>1</td>\n",
       "      <td>2</td>\n",
       "      <td>1</td>\n",
       "      <td>2</td>\n",
       "      <td>2</td>\n",
       "    </tr>\n",
       "    <tr>\n",
       "      <th>building_id</th>\n",
       "      <td>79780be1514f645d7e6be99a3de696c5</td>\n",
       "      <td>0</td>\n",
       "      <td>3dbbb69fd52e0d25131aa1cd459c87eb</td>\n",
       "      <td>783d21d013a7e655bddc4ed0d461cc5e</td>\n",
       "      <td>6134e7c4dd1a98d9aee36623c9872b49</td>\n",
       "    </tr>\n",
       "    <tr>\n",
       "      <th>created</th>\n",
       "      <td>2016-06-11 05:29:41</td>\n",
       "      <td>2016-06-24 06:36:34</td>\n",
       "      <td>2016-06-03 04:29:40</td>\n",
       "      <td>2016-06-11 06:17:35</td>\n",
       "      <td>2016-04-12 05:24:17</td>\n",
       "    </tr>\n",
       "    <tr>\n",
       "      <th>description</th>\n",
       "      <td>Large with awesome terrace--accessible via bed...</td>\n",
       "      <td>Prime Soho - between Bleecker and Houston - Ne...</td>\n",
       "      <td>New York chic has reached a new level ...</td>\n",
       "      <td>Step into this fantastic new Construction in t...</td>\n",
       "      <td>~Take a stroll in Central Park, enjoy the ente...</td>\n",
       "    </tr>\n",
       "    <tr>\n",
       "      <th>display_address</th>\n",
       "      <td>Suffolk Street</td>\n",
       "      <td>Thompson Street</td>\n",
       "      <td>101 East 10th Street</td>\n",
       "      <td>South Third Street\\r</td>\n",
       "      <td>Midtown West, 8th Ave</td>\n",
       "    </tr>\n",
       "    <tr>\n",
       "      <th>features</th>\n",
       "      <td>[Elevator, Laundry in Building, Laundry in Uni...</td>\n",
       "      <td>[Pre-War, Dogs Allowed, Cats Allowed]</td>\n",
       "      <td>[Doorman, Elevator, No Fee]</td>\n",
       "      <td>[Roof Deck, Balcony, Elevator, Laundry in Buil...</td>\n",
       "      <td>[Common Outdoor Space, Cats Allowed, Dogs Allo...</td>\n",
       "    </tr>\n",
       "    <tr>\n",
       "      <th>latitude</th>\n",
       "      <td>40.7185</td>\n",
       "      <td>40.7278</td>\n",
       "      <td>40.7306</td>\n",
       "      <td>40.7109</td>\n",
       "      <td>40.765</td>\n",
       "    </tr>\n",
       "    <tr>\n",
       "      <th>listing_id</th>\n",
       "      <td>7142618</td>\n",
       "      <td>7210040</td>\n",
       "      <td>7103890</td>\n",
       "      <td>7143442</td>\n",
       "      <td>6860601</td>\n",
       "    </tr>\n",
       "    <tr>\n",
       "      <th>longitude</th>\n",
       "      <td>-73.9865</td>\n",
       "      <td>-74</td>\n",
       "      <td>-73.989</td>\n",
       "      <td>-73.9571</td>\n",
       "      <td>-73.9845</td>\n",
       "    </tr>\n",
       "    <tr>\n",
       "      <th>manager_id</th>\n",
       "      <td>b1b1852c416d78d7765d746cb1b8921f</td>\n",
       "      <td>d0b5648017832b2427eeb9956d966a14</td>\n",
       "      <td>9ca6f3baa475c37a3b3521a394d65467</td>\n",
       "      <td>0b9d5db96db8472d7aeb67c67338c4d2</td>\n",
       "      <td>b5eda0eb31b042ce2124fd9e9fcfce2f</td>\n",
       "    </tr>\n",
       "    <tr>\n",
       "      <th>photos</th>\n",
       "      <td>[https://photos.renthop.com/2/7142618_1c45a2c8...</td>\n",
       "      <td>[https://photos.renthop.com/2/7210040_d824cc71...</td>\n",
       "      <td>[https://photos.renthop.com/2/7103890_85b33077...</td>\n",
       "      <td>[https://photos.renthop.com/2/7143442_0879e9e0...</td>\n",
       "      <td>[https://photos.renthop.com/2/6860601_c96164d8...</td>\n",
       "    </tr>\n",
       "    <tr>\n",
       "      <th>price</th>\n",
       "      <td>2950</td>\n",
       "      <td>2850</td>\n",
       "      <td>3758</td>\n",
       "      <td>3300</td>\n",
       "      <td>4900</td>\n",
       "    </tr>\n",
       "    <tr>\n",
       "      <th>street_address</th>\n",
       "      <td>99 Suffolk Street</td>\n",
       "      <td>176 Thompson Street</td>\n",
       "      <td>101 East 10th Street</td>\n",
       "      <td>251  South Third Street\\r</td>\n",
       "      <td>260 West 54th Street</td>\n",
       "    </tr>\n",
       "  </tbody>\n",
       "</table>\n",
       "</div>"
      ],
      "text/plain": [
       "                                                            0       \\\n",
       "bathrooms                                                        1   \n",
       "bedrooms                                                         1   \n",
       "building_id                       79780be1514f645d7e6be99a3de696c5   \n",
       "created                                        2016-06-11 05:29:41   \n",
       "description      Large with awesome terrace--accessible via bed...   \n",
       "display_address                                     Suffolk Street   \n",
       "features         [Elevator, Laundry in Building, Laundry in Uni...   \n",
       "latitude                                                   40.7185   \n",
       "listing_id                                                 7142618   \n",
       "longitude                                                 -73.9865   \n",
       "manager_id                        b1b1852c416d78d7765d746cb1b8921f   \n",
       "photos           [https://photos.renthop.com/2/7142618_1c45a2c8...   \n",
       "price                                                         2950   \n",
       "street_address                                   99 Suffolk Street   \n",
       "\n",
       "                                                            1       \\\n",
       "bathrooms                                                        1   \n",
       "bedrooms                                                         2   \n",
       "building_id                                                      0   \n",
       "created                                        2016-06-24 06:36:34   \n",
       "description      Prime Soho - between Bleecker and Houston - Ne...   \n",
       "display_address                                    Thompson Street   \n",
       "features                     [Pre-War, Dogs Allowed, Cats Allowed]   \n",
       "latitude                                                   40.7278   \n",
       "listing_id                                                 7210040   \n",
       "longitude                                                      -74   \n",
       "manager_id                        d0b5648017832b2427eeb9956d966a14   \n",
       "photos           [https://photos.renthop.com/2/7210040_d824cc71...   \n",
       "price                                                         2850   \n",
       "street_address                                 176 Thompson Street   \n",
       "\n",
       "                                                            100     \\\n",
       "bathrooms                                                        1   \n",
       "bedrooms                                                         1   \n",
       "building_id                       3dbbb69fd52e0d25131aa1cd459c87eb   \n",
       "created                                        2016-06-03 04:29:40   \n",
       "description              New York chic has reached a new level ...   \n",
       "display_address                               101 East 10th Street   \n",
       "features                               [Doorman, Elevator, No Fee]   \n",
       "latitude                                                   40.7306   \n",
       "listing_id                                                 7103890   \n",
       "longitude                                                  -73.989   \n",
       "manager_id                        9ca6f3baa475c37a3b3521a394d65467   \n",
       "photos           [https://photos.renthop.com/2/7103890_85b33077...   \n",
       "price                                                         3758   \n",
       "street_address                                101 East 10th Street   \n",
       "\n",
       "                                                            1000    \\\n",
       "bathrooms                                                        1   \n",
       "bedrooms                                                         2   \n",
       "building_id                       783d21d013a7e655bddc4ed0d461cc5e   \n",
       "created                                        2016-06-11 06:17:35   \n",
       "description      Step into this fantastic new Construction in t...   \n",
       "display_address                               South Third Street\\r   \n",
       "features         [Roof Deck, Balcony, Elevator, Laundry in Buil...   \n",
       "latitude                                                   40.7109   \n",
       "listing_id                                                 7143442   \n",
       "longitude                                                 -73.9571   \n",
       "manager_id                        0b9d5db96db8472d7aeb67c67338c4d2   \n",
       "photos           [https://photos.renthop.com/2/7143442_0879e9e0...   \n",
       "price                                                         3300   \n",
       "street_address                           251  South Third Street\\r   \n",
       "\n",
       "                                                            100000  \n",
       "bathrooms                                                        2  \n",
       "bedrooms                                                         2  \n",
       "building_id                       6134e7c4dd1a98d9aee36623c9872b49  \n",
       "created                                        2016-04-12 05:24:17  \n",
       "description      ~Take a stroll in Central Park, enjoy the ente...  \n",
       "display_address                              Midtown West, 8th Ave  \n",
       "features         [Common Outdoor Space, Cats Allowed, Dogs Allo...  \n",
       "latitude                                                    40.765  \n",
       "listing_id                                                 6860601  \n",
       "longitude                                                 -73.9845  \n",
       "manager_id                        b5eda0eb31b042ce2124fd9e9fcfce2f  \n",
       "photos           [https://photos.renthop.com/2/6860601_c96164d8...  \n",
       "price                                                         4900  \n",
       "street_address                                260 West 54th Street  "
      ]
     },
     "execution_count": 3,
     "metadata": {},
     "output_type": "execute_result"
    }
   ],
   "source": [
    "test.head().T"
   ]
  },
  {
   "cell_type": "code",
   "execution_count": 4,
   "metadata": {},
   "outputs": [
    {
     "name": "stdout",
     "output_type": "stream",
     "text": [
      "<class 'pandas.core.frame.DataFrame'>\n",
      "Int64Index: 49352 entries, 10 to 99994\n",
      "Data columns (total 15 columns):\n",
      "bathrooms          49352 non-null float64\n",
      "bedrooms           49352 non-null int64\n",
      "building_id        49352 non-null object\n",
      "created            49352 non-null object\n",
      "description        49352 non-null object\n",
      "display_address    49352 non-null object\n",
      "features           49352 non-null object\n",
      "interest_level     49352 non-null object\n",
      "latitude           49352 non-null float64\n",
      "listing_id         49352 non-null int64\n",
      "longitude          49352 non-null float64\n",
      "manager_id         49352 non-null object\n",
      "photos             49352 non-null object\n",
      "price              49352 non-null int64\n",
      "street_address     49352 non-null object\n",
      "dtypes: float64(3), int64(3), object(9)\n",
      "memory usage: 4.3+ MB\n"
     ]
    }
   ],
   "source": [
    "train.info()"
   ]
  },
  {
   "cell_type": "code",
   "execution_count": 5,
   "metadata": {},
   "outputs": [
    {
     "name": "stdout",
     "output_type": "stream",
     "text": [
      "<class 'pandas.core.frame.DataFrame'>\n",
      "Int64Index: 74659 entries, 0 to 99999\n",
      "Data columns (total 14 columns):\n",
      "bathrooms          74659 non-null float64\n",
      "bedrooms           74659 non-null int64\n",
      "building_id        74659 non-null object\n",
      "created            74659 non-null object\n",
      "description        74659 non-null object\n",
      "display_address    74659 non-null object\n",
      "features           74659 non-null object\n",
      "latitude           74659 non-null float64\n",
      "listing_id         74659 non-null int64\n",
      "longitude          74659 non-null float64\n",
      "manager_id         74659 non-null object\n",
      "photos             74659 non-null object\n",
      "price              74659 non-null int64\n",
      "street_address     74659 non-null object\n",
      "dtypes: float64(3), int64(3), object(8)\n",
      "memory usage: 6.3+ MB\n"
     ]
    }
   ],
   "source": [
    "test.info()"
   ]
  },
  {
   "cell_type": "markdown",
   "metadata": {},
   "source": [
    "以上信息提供了训练集和测试集的数据集大小、属性、目标变量——`interest_level`；同时提供了各属性的数据类型，以及是否含有空数据。"
   ]
  },
  {
   "cell_type": "code",
   "execution_count": 6,
   "metadata": {},
   "outputs": [
    {
     "data": {
      "text/html": [
       "<div>\n",
       "<style scoped>\n",
       "    .dataframe tbody tr th:only-of-type {\n",
       "        vertical-align: middle;\n",
       "    }\n",
       "\n",
       "    .dataframe tbody tr th {\n",
       "        vertical-align: top;\n",
       "    }\n",
       "\n",
       "    .dataframe thead th {\n",
       "        text-align: right;\n",
       "    }\n",
       "</style>\n",
       "<table border=\"1\" class=\"dataframe\">\n",
       "  <thead>\n",
       "    <tr style=\"text-align: right;\">\n",
       "      <th></th>\n",
       "      <th>bathrooms</th>\n",
       "      <th>bedrooms</th>\n",
       "      <th>latitude</th>\n",
       "      <th>listing_id</th>\n",
       "      <th>longitude</th>\n",
       "      <th>price</th>\n",
       "    </tr>\n",
       "  </thead>\n",
       "  <tbody>\n",
       "    <tr>\n",
       "      <th>count</th>\n",
       "      <td>49352.00000</td>\n",
       "      <td>49352.000000</td>\n",
       "      <td>49352.000000</td>\n",
       "      <td>4.935200e+04</td>\n",
       "      <td>49352.000000</td>\n",
       "      <td>4.935200e+04</td>\n",
       "    </tr>\n",
       "    <tr>\n",
       "      <th>mean</th>\n",
       "      <td>1.21218</td>\n",
       "      <td>1.541640</td>\n",
       "      <td>40.741545</td>\n",
       "      <td>7.024055e+06</td>\n",
       "      <td>-73.955716</td>\n",
       "      <td>3.830174e+03</td>\n",
       "    </tr>\n",
       "    <tr>\n",
       "      <th>std</th>\n",
       "      <td>0.50142</td>\n",
       "      <td>1.115018</td>\n",
       "      <td>0.638535</td>\n",
       "      <td>1.262746e+05</td>\n",
       "      <td>1.177912</td>\n",
       "      <td>2.206687e+04</td>\n",
       "    </tr>\n",
       "    <tr>\n",
       "      <th>min</th>\n",
       "      <td>0.00000</td>\n",
       "      <td>0.000000</td>\n",
       "      <td>0.000000</td>\n",
       "      <td>6.811957e+06</td>\n",
       "      <td>-118.271000</td>\n",
       "      <td>4.300000e+01</td>\n",
       "    </tr>\n",
       "    <tr>\n",
       "      <th>25%</th>\n",
       "      <td>1.00000</td>\n",
       "      <td>1.000000</td>\n",
       "      <td>40.728300</td>\n",
       "      <td>6.915888e+06</td>\n",
       "      <td>-73.991700</td>\n",
       "      <td>2.500000e+03</td>\n",
       "    </tr>\n",
       "    <tr>\n",
       "      <th>50%</th>\n",
       "      <td>1.00000</td>\n",
       "      <td>1.000000</td>\n",
       "      <td>40.751800</td>\n",
       "      <td>7.021070e+06</td>\n",
       "      <td>-73.977900</td>\n",
       "      <td>3.150000e+03</td>\n",
       "    </tr>\n",
       "    <tr>\n",
       "      <th>75%</th>\n",
       "      <td>1.00000</td>\n",
       "      <td>2.000000</td>\n",
       "      <td>40.774300</td>\n",
       "      <td>7.128733e+06</td>\n",
       "      <td>-73.954800</td>\n",
       "      <td>4.100000e+03</td>\n",
       "    </tr>\n",
       "    <tr>\n",
       "      <th>max</th>\n",
       "      <td>10.00000</td>\n",
       "      <td>8.000000</td>\n",
       "      <td>44.883500</td>\n",
       "      <td>7.753784e+06</td>\n",
       "      <td>0.000000</td>\n",
       "      <td>4.490000e+06</td>\n",
       "    </tr>\n",
       "  </tbody>\n",
       "</table>\n",
       "</div>"
      ],
      "text/plain": [
       "         bathrooms      bedrooms      latitude    listing_id     longitude  \\\n",
       "count  49352.00000  49352.000000  49352.000000  4.935200e+04  49352.000000   \n",
       "mean       1.21218      1.541640     40.741545  7.024055e+06    -73.955716   \n",
       "std        0.50142      1.115018      0.638535  1.262746e+05      1.177912   \n",
       "min        0.00000      0.000000      0.000000  6.811957e+06   -118.271000   \n",
       "25%        1.00000      1.000000     40.728300  6.915888e+06    -73.991700   \n",
       "50%        1.00000      1.000000     40.751800  7.021070e+06    -73.977900   \n",
       "75%        1.00000      2.000000     40.774300  7.128733e+06    -73.954800   \n",
       "max       10.00000      8.000000     44.883500  7.753784e+06      0.000000   \n",
       "\n",
       "              price  \n",
       "count  4.935200e+04  \n",
       "mean   3.830174e+03  \n",
       "std    2.206687e+04  \n",
       "min    4.300000e+01  \n",
       "25%    2.500000e+03  \n",
       "50%    3.150000e+03  \n",
       "75%    4.100000e+03  \n",
       "max    4.490000e+06  "
      ]
     },
     "execution_count": 6,
     "metadata": {},
     "output_type": "execute_result"
    }
   ],
   "source": [
    "# Statistic of numeric data\n",
    "train.describe()"
   ]
  },
  {
   "cell_type": "code",
   "execution_count": 17,
   "metadata": {},
   "outputs": [
    {
     "data": {
      "text/plain": [
       "(49352,)"
      ]
     },
     "execution_count": 17,
     "metadata": {},
     "output_type": "execute_result"
    }
   ],
   "source": [
    "# Values counting\n",
    "train['listing_id'].value_counts().shape"
   ]
  },
  {
   "cell_type": "code",
   "execution_count": 18,
   "metadata": {},
   "outputs": [
    {
     "data": {
      "text/plain": [
       "(7585,)"
      ]
     },
     "execution_count": 18,
     "metadata": {},
     "output_type": "execute_result"
    }
   ],
   "source": [
    "train['building_id'].value_counts().shape"
   ]
  },
  {
   "cell_type": "code",
   "execution_count": 19,
   "metadata": {},
   "outputs": [
    {
     "data": {
      "text/plain": [
       "0                                   8286\n",
       "96274288c84ddd7d5c5d8e425ee75027     275\n",
       "11e1dec9d14b1a9e528386a2504b3afc     215\n",
       "80a120d6bc3aba97f40fee8c2204524b     213\n",
       "bb8658a3e432fb62a440615333376345     212\n",
       "f68bf347f99df026f4faad43cc604048     191\n",
       "c94301249b8c09429d329864d58e5b82     167\n",
       "ce6d18bf3238e668b2bf23f4110b7b67     165\n",
       "57ef86c28a8ae482dc3a3c3af28e8e48     159\n",
       "128d4af0683efc5e1eded8dc8044d5e3     153\n",
       "d0234abbc01a982d54e8d446acc03405     152\n",
       "9c18bf871b97492b96d8ddb800591f1b     147\n",
       "cb14c4f807f23ecee1f7469b5159d2de     141\n",
       "8e3b8c607c3edcf3de131c24f0390179     141\n",
       "ea9045106c4e1fe52853b6af941f1c69     139\n",
       "7967a1280bf3f7644500fc79d2696b0e     133\n",
       "a01c99eb2cfdde327e1691e17d6696ba     131\n",
       "093f64f52a6e43ba5e8f12bec8200554     128\n",
       "18f6eb16d2f3e9885cb4a5d0a40791c6     127\n",
       "5565db9b7cba3603834c4aa6f2950960     126\n",
       "Name: building_id, dtype: int64"
      ]
     },
     "execution_count": 19,
     "metadata": {},
     "output_type": "execute_result"
    }
   ],
   "source": [
    "train['building_id'].value_counts().nlargest(20)"
   ]
  },
  {
   "cell_type": "code",
   "execution_count": 20,
   "metadata": {},
   "outputs": [
    {
     "data": {
      "text/plain": [
       "(3481,)"
      ]
     },
     "execution_count": 20,
     "metadata": {},
     "output_type": "execute_result"
    }
   ],
   "source": [
    "train['manager_id'].value_counts().shape"
   ]
  },
  {
   "cell_type": "code",
   "execution_count": 21,
   "metadata": {},
   "outputs": [
    {
     "data": {
      "text/plain": [
       "e6472c7237327dd3903b3d6f6a94515a    2533\n",
       "6e5c10246156ae5bdcd9b487ca99d96a     711\n",
       "8f5a9c893f6d602f4953fcc0b8e6e9b4     410\n",
       "62b685cc0d876c3a1a51d63a0d6a8082     402\n",
       "cb87dadbca78fad02b388dc9e8f25a5b     373\n",
       "9df32cb8dda19d3222d66e69e258616b     330\n",
       "b7de4cb395920136663132057fa89d84     320\n",
       "2aa9bfa5f67ed9997ea341dee8a3a271     316\n",
       "ad3d8ddc52c7e0859b5c6c7f7949c3bd     305\n",
       "c9c33695ee2a2f818e9f1d8f7d1c4b39     299\n",
       "1fb46c4a72bcf764ac35fc23f394760d     289\n",
       "d2bce61e0e0079ebdc8c281e415e045b     276\n",
       "5599e962719af3ccc2976855c2d5893c     256\n",
       "aa9e353a6b43b125cbc89cb751090a9e     246\n",
       "62826f3ae01f2ddc93b9cd28c659ab2b     233\n",
       "8b53ccf4338806ab1be3dd0267711649     222\n",
       "612a00076aefe8c98d1df4835640c74b     214\n",
       "dbbb6b990661b1e507a387f019bcb1a0     212\n",
       "8262449f40e9117f7a9ea49b4a333993     210\n",
       "b209e2c4384a64cc307c26759ee0c651     210\n",
       "Name: manager_id, dtype: int64"
      ]
     },
     "execution_count": 21,
     "metadata": {},
     "output_type": "execute_result"
    }
   ],
   "source": [
    "train['manager_id'].value_counts().nlargest(20)"
   ]
  },
  {
   "cell_type": "code",
   "execution_count": 22,
   "metadata": {},
   "outputs": [
    {
     "data": {
      "text/plain": [
       "(8826,)"
      ]
     },
     "execution_count": 22,
     "metadata": {},
     "output_type": "execute_result"
    }
   ],
   "source": [
    "train['display_address'].value_counts().shape"
   ]
  },
  {
   "cell_type": "code",
   "execution_count": 23,
   "metadata": {},
   "outputs": [
    {
     "data": {
      "text/plain": [
       "Broadway             438\n",
       "East 34th Street     355\n",
       "Second Avenue        349\n",
       "Wall Street          332\n",
       "West 37th Street     287\n",
       "West Street          258\n",
       "First Avenue         244\n",
       "Gold Street          241\n",
       "Washington Street    237\n",
       "York Avenue          228\n",
       "Water Street         214\n",
       "John Street          214\n",
       "East 39th Street     200\n",
       "East 89th Street     195\n",
       "West 54th Street     193\n",
       "Name: display_address, dtype: int64"
      ]
     },
     "execution_count": 23,
     "metadata": {},
     "output_type": "execute_result"
    }
   ],
   "source": [
    "train['display_address'].value_counts().nlargest(15)"
   ]
  },
  {
   "cell_type": "markdown",
   "metadata": {},
   "source": [
    "通过观察数据，得到以下几个结论：\n",
    "- 一定程度上可以直接利用的数值型特征有：`bathrooms`、`bedrooms`、`price`\n",
    "- 经度与纬度特征`latitude`、`longitude`代表房屋位置，后续的数据可视化过程中可以考虑在地图上观察房屋分布情况\n",
    "- `listing_id`、`building_id`、`manager_id`属于ID型数据，其中`listing_id`对预测模型的价值不大，基本可以忽略，`building_id`似乎代表的是房屋所在的建筑物，与房屋位置也有一定联系；`manager_id`的意义猜测是类似“房屋中介人”的角色，根据生活经验，“中介人”对房屋出租情况也有一定影响，需要在后续的可视化步骤中进一步观察\n",
    "- `display_address`推测是该房屋出租信息/广告展示的位置，同样可根据生活经验得知与目标变量有一定关系\n",
    "- 其他非数值型特征，需要进一步处理"
   ]
  },
  {
   "cell_type": "markdown",
   "metadata": {},
   "source": [
    "### 初步预处理 & FE"
   ]
  },
  {
   "cell_type": "code",
   "execution_count": 28,
   "metadata": {},
   "outputs": [
    {
     "data": {
      "text/html": [
       "<div>\n",
       "<style scoped>\n",
       "    .dataframe tbody tr th:only-of-type {\n",
       "        vertical-align: middle;\n",
       "    }\n",
       "\n",
       "    .dataframe tbody tr th {\n",
       "        vertical-align: top;\n",
       "    }\n",
       "\n",
       "    .dataframe thead th {\n",
       "        text-align: right;\n",
       "    }\n",
       "</style>\n",
       "<table border=\"1\" class=\"dataframe\">\n",
       "  <thead>\n",
       "    <tr style=\"text-align: right;\">\n",
       "      <th></th>\n",
       "      <th>bathrooms</th>\n",
       "      <th>bedrooms</th>\n",
       "      <th>num_rooms</th>\n",
       "      <th>price</th>\n",
       "      <th>price_per_rooms</th>\n",
       "      <th>created</th>\n",
       "      <th>created_year</th>\n",
       "      <th>created_month</th>\n",
       "      <th>created_day</th>\n",
       "      <th>created_hour</th>\n",
       "    </tr>\n",
       "  </thead>\n",
       "  <tbody>\n",
       "    <tr>\n",
       "      <th>10</th>\n",
       "      <td>1.5</td>\n",
       "      <td>3</td>\n",
       "      <td>4.5</td>\n",
       "      <td>3000.0</td>\n",
       "      <td>666.666667</td>\n",
       "      <td>2016-06-24 07:54:24</td>\n",
       "      <td>2016</td>\n",
       "      <td>6</td>\n",
       "      <td>24</td>\n",
       "      <td>7</td>\n",
       "    </tr>\n",
       "    <tr>\n",
       "      <th>10000</th>\n",
       "      <td>1.0</td>\n",
       "      <td>2</td>\n",
       "      <td>3.0</td>\n",
       "      <td>5465.0</td>\n",
       "      <td>1821.666667</td>\n",
       "      <td>2016-06-12 12:19:27</td>\n",
       "      <td>2016</td>\n",
       "      <td>6</td>\n",
       "      <td>12</td>\n",
       "      <td>12</td>\n",
       "    </tr>\n",
       "    <tr>\n",
       "      <th>100004</th>\n",
       "      <td>1.0</td>\n",
       "      <td>1</td>\n",
       "      <td>2.0</td>\n",
       "      <td>2850.0</td>\n",
       "      <td>1425.000000</td>\n",
       "      <td>2016-04-17 03:26:41</td>\n",
       "      <td>2016</td>\n",
       "      <td>4</td>\n",
       "      <td>17</td>\n",
       "      <td>3</td>\n",
       "    </tr>\n",
       "    <tr>\n",
       "      <th>100007</th>\n",
       "      <td>1.0</td>\n",
       "      <td>1</td>\n",
       "      <td>2.0</td>\n",
       "      <td>3275.0</td>\n",
       "      <td>1637.500000</td>\n",
       "      <td>2016-04-18 02:22:02</td>\n",
       "      <td>2016</td>\n",
       "      <td>4</td>\n",
       "      <td>18</td>\n",
       "      <td>2</td>\n",
       "    </tr>\n",
       "    <tr>\n",
       "      <th>100013</th>\n",
       "      <td>1.0</td>\n",
       "      <td>4</td>\n",
       "      <td>5.0</td>\n",
       "      <td>3350.0</td>\n",
       "      <td>670.000000</td>\n",
       "      <td>2016-04-28 01:32:41</td>\n",
       "      <td>2016</td>\n",
       "      <td>4</td>\n",
       "      <td>28</td>\n",
       "      <td>1</td>\n",
       "    </tr>\n",
       "  </tbody>\n",
       "</table>\n",
       "</div>"
      ],
      "text/plain": [
       "        bathrooms  bedrooms  num_rooms   price  price_per_rooms  \\\n",
       "10            1.5         3        4.5  3000.0       666.666667   \n",
       "10000         1.0         2        3.0  5465.0      1821.666667   \n",
       "100004        1.0         1        2.0  2850.0      1425.000000   \n",
       "100007        1.0         1        2.0  3275.0      1637.500000   \n",
       "100013        1.0         4        5.0  3350.0       670.000000   \n",
       "\n",
       "                    created  created_year  created_month  created_day  \\\n",
       "10      2016-06-24 07:54:24          2016              6           24   \n",
       "10000   2016-06-12 12:19:27          2016              6           12   \n",
       "100004  2016-04-17 03:26:41          2016              4           17   \n",
       "100007  2016-04-18 02:22:02          2016              4           18   \n",
       "100013  2016-04-28 01:32:41          2016              4           28   \n",
       "\n",
       "        created_hour  \n",
       "10                 7  \n",
       "10000             12  \n",
       "100004             3  \n",
       "100007             2  \n",
       "100013             1  "
      ]
     },
     "execution_count": 28,
     "metadata": {},
     "output_type": "execute_result"
    }
   ],
   "source": [
    "# Get some statistics of non-numeric data\n",
    "train['num_photos'] = train['photos'].apply(len)\n",
    "train['num_features'] = train['features'].apply(len)\n",
    "train['num_description_words'] = train['description'].apply(lambda x: len(x.split(' ')))\n",
    "train['num_description_len'] = train['description'].apply(len)\n",
    "train['num_rooms'] = train['bathrooms'] + train['bedrooms']\n",
    "train['price_per_rooms'] = train['price'] / train['num_rooms']\n",
    "\n",
    "# Convert datetime string to numeric values\n",
    "train['created_year'] = pd.to_datetime(train['created']).dt.year\n",
    "train['created_month'] = pd.to_datetime(train['created']).dt.month\n",
    "train['created_day'] = pd.to_datetime(train['created']).dt.day\n",
    "train['created_hour'] = pd.to_datetime(train['created']).dt.hour\n",
    "\n",
    "# TODO: 将created_day分类为工作日和周末（在判断经纬属于哪个国家之后）\n",
    "\n",
    "train[['bathrooms', 'bedrooms', 'num_rooms', 'price', 'price_per_rooms', 'created', 'created_year', 'created_month', 'created_day', 'created_hour']].head()"
   ]
  },
  {
   "cell_type": "markdown",
   "metadata": {},
   "source": [
    "### 数据的可视化 & 进一步的FE"
   ]
  },
  {
   "cell_type": "markdown",
   "metadata": {},
   "source": [
    "#### `interest_level`"
   ]
  },
  {
   "cell_type": "code",
   "execution_count": null,
   "metadata": {},
   "outputs": [],
   "source": [
    "import seaborn\n",
    "# bar and pie"
   ]
  },
  {
   "cell_type": "markdown",
   "metadata": {},
   "source": [
    "#### `price`"
   ]
  },
  {
   "cell_type": "code",
   "execution_count": 7,
   "metadata": {},
   "outputs": [
    {
     "data": {
      "text/plain": [
       "Text(0.5,1,'Distribution of Price')"
      ]
     },
     "execution_count": 7,
     "metadata": {},
     "output_type": "execute_result"
    },
    {
     "data": {
      "image/png": "[encoded data removed]",
      "text/plain": [
       "<Figure size 576x720 with 1 Axes>"
      ]
     },
     "metadata": {},
     "output_type": "display_data"
    }
   ],
   "source": [
    "plt.figure(figsize=(8, 10))\n",
    "plt.scatter(range(train.shape[0]), train['price'].values, color='#82a6f5')\n",
    "plt.title('Distribution of Price')"
   ]
  },
  {
   "cell_type": "code",
   "execution_count": 10,
   "metadata": {},
   "outputs": [
    {
     "name": "stderr",
     "output_type": "stream",
     "text": [
      "c:\\program files (x86)\\python36-32\\lib\\site-packages\\pandas\\core\\indexing.py:194: SettingWithCopyWarning: \n",
      "A value is trying to be set on a copy of a slice from a DataFrame\n",
      "\n",
      "See the caveats in the documentation: http://pandas.pydata.org/pandas-docs/stable/indexing.html#indexing-view-versus-copy\n",
      "  self._setitem_with_indexer(indexer, value)\n"
     ]
    },
    {
     "data": {
      "text/plain": [
       "Text(0.5,1,'Distribution of Price - After removing the abnormal points')"
      ]
     },
     "execution_count": 10,
     "metadata": {},
     "output_type": "execute_result"
    },
    {
     "data": {
      "image/png": "[encoded data removed]",
      "text/plain": [
       "<Figure size 576x720 with 1 Axes>"
      ]
     },
     "metadata": {},
     "output_type": "display_data"
    }
   ],
   "source": [
    "# Remove the abnormal points\n",
    "ulimit = np.percentile(train['price'].values, 99)\n",
    "train['price'].iloc[train['price'].values>ulimit] = ulimit\n",
    "plt.figure(figsize=(8, 10))\n",
    "plt.scatter(range(train.shape[0]), train['price'].values, color='#82a6f5')\n",
    "plt.title('Distribution of Price - After removing the abnormal points')"
   ]
  },
  {
   "cell_type": "code",
   "execution_count": null,
   "metadata": {},
   "outputs": [],
   "source": []
  }
 ],
 "metadata": {
  "kernelspec": {
   "display_name": "Python 3",
   "language": "python",
   "name": "python3"
  },
  "language_info": {
   "codemirror_mode": {
    "name": "ipython",
    "version": 3
   },
   "file_extension": ".py",
   "mimetype": "text/x-python",
   "name": "python",
   "nbconvert_exporter": "python",
   "pygments_lexer": "ipython3",
   "version": "3.6.3"
  }
 },
 "nbformat": 4,
 "nbformat_minor": 2
}
